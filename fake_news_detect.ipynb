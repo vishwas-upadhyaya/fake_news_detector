{
 "nbformat": 4,
 "nbformat_minor": 2,
 "metadata": {
  "language_info": {
   "name": "python",
   "codemirror_mode": {
    "name": "ipython",
    "version": 3
   },
   "version": "3.7.3-final"
  },
  "orig_nbformat": 2,
  "file_extension": ".py",
  "mimetype": "text/x-python",
  "name": "python",
  "npconvert_exporter": "python",
  "pygments_lexer": "ipython3",
  "version": 3,
  "kernelspec": {
   "name": "python37364bit2dd9b73744c04994914427a4e4e10441",
   "display_name": "Python 3.7.3 64-bit"
  }
 },
 "cells": [
  {
   "cell_type": "code",
   "execution_count": 108,
   "metadata": {},
   "outputs": [],
   "source": [
    "import pandas as pd\n",
    "import numpy as np\n",
    "from sklearn.model_selection import train_test_split\n",
    "from sklearn.feature_extraction.text import TfidfVectorizer,TfidfTransformer\n",
    "from sklearn.linear_model import PassiveAggressiveClassifier\n",
    "from sklearn.metrics import confusion_matrix,accuracy_score\n",
    "import itertools"
   ]
  },
  {
   "cell_type": "code",
   "execution_count": 96,
   "metadata": {},
   "outputs": [
    {
     "output_type": "execute_result",
     "data": {
      "text/plain": "   Unnamed: 0                                              title  \\\n0        8476                       You Can Smell Hillary’s Fear   \n1       10294  Watch The Exact Moment Paul Ryan Committed Pol...   \n2        3608        Kerry to go to Paris in gesture of sympathy   \n3       10142  Bernie supporters on Twitter erupt in anger ag...   \n4         875   The Battle of New York: Why This Primary Matters   \n\n                                                text label  \n0  Daniel Greenfield, a Shillman Journalism Fello...  FAKE  \n1  Google Pinterest Digg Linkedin Reddit Stumbleu...  FAKE  \n2  U.S. Secretary of State John F. Kerry said Mon...  REAL  \n3  — Kaydee King (@KaydeeKing) November 9, 2016 T...  FAKE  \n4  It's primary day in New York and front-runners...  REAL  ",
      "text/html": "<div>\n<style scoped>\n    .dataframe tbody tr th:only-of-type {\n        vertical-align: middle;\n    }\n\n    .dataframe tbody tr th {\n        vertical-align: top;\n    }\n\n    .dataframe thead th {\n        text-align: right;\n    }\n</style>\n<table border=\"1\" class=\"dataframe\">\n  <thead>\n    <tr style=\"text-align: right;\">\n      <th></th>\n      <th>Unnamed: 0</th>\n      <th>title</th>\n      <th>text</th>\n      <th>label</th>\n    </tr>\n  </thead>\n  <tbody>\n    <tr>\n      <th>0</th>\n      <td>8476</td>\n      <td>You Can Smell Hillary’s Fear</td>\n      <td>Daniel Greenfield, a Shillman Journalism Fello...</td>\n      <td>FAKE</td>\n    </tr>\n    <tr>\n      <th>1</th>\n      <td>10294</td>\n      <td>Watch The Exact Moment Paul Ryan Committed Pol...</td>\n      <td>Google Pinterest Digg Linkedin Reddit Stumbleu...</td>\n      <td>FAKE</td>\n    </tr>\n    <tr>\n      <th>2</th>\n      <td>3608</td>\n      <td>Kerry to go to Paris in gesture of sympathy</td>\n      <td>U.S. Secretary of State John F. Kerry said Mon...</td>\n      <td>REAL</td>\n    </tr>\n    <tr>\n      <th>3</th>\n      <td>10142</td>\n      <td>Bernie supporters on Twitter erupt in anger ag...</td>\n      <td>— Kaydee King (@KaydeeKing) November 9, 2016 T...</td>\n      <td>FAKE</td>\n    </tr>\n    <tr>\n      <th>4</th>\n      <td>875</td>\n      <td>The Battle of New York: Why This Primary Matters</td>\n      <td>It's primary day in New York and front-runners...</td>\n      <td>REAL</td>\n    </tr>\n  </tbody>\n</table>\n</div>"
     },
     "metadata": {},
     "execution_count": 96
    }
   ],
   "source": [
    "data=pd.read_csv('news.csv')\n",
    "data.head(5)"
   ]
  },
  {
   "cell_type": "code",
   "execution_count": 97,
   "metadata": {},
   "outputs": [
    {
     "output_type": "execute_result",
     "data": {
      "text/plain": "(6335, 4)"
     },
     "metadata": {},
     "execution_count": 97
    }
   ],
   "source": [
    "data.shape"
   ]
  },
  {
   "cell_type": "code",
   "execution_count": 98,
   "metadata": {},
   "outputs": [
    {
     "output_type": "execute_result",
     "data": {
      "text/plain": "0    FAKE\n1    FAKE\n2    REAL\n3    FAKE\n4    REAL\nName: label, dtype: object"
     },
     "metadata": {},
     "execution_count": 98
    }
   ],
   "source": [
    "labels=data.label\n",
    "labels.head()"
   ]
  },
  {
   "cell_type": "code",
   "execution_count": 99,
   "metadata": {},
   "outputs": [],
   "source": [
    "x_train,x_test,y_train,y_test=train_test_split(data['text'], labels, test_size=0.2, random_state=10)"
   ]
  },
  {
   "cell_type": "code",
   "execution_count": 100,
   "metadata": {},
   "outputs": [],
   "source": [
    "tfidf_vectorizer=TfidfVectorizer(stop_words='english', max_df=0.7)\n",
    "\n",
    "tfidf_train=tfidf_vectorizer.fit_transform(x_train) \n",
    "tfidf_test=tfidf_vectorizer.transform(x_test)"
   ]
  },
  {
   "cell_type": "code",
   "execution_count": 121,
   "metadata": {},
   "outputs": [
    {
     "output_type": "execute_result",
     "data": {
      "text/plain": "2811    REAL\n175     FAKE\n1773    REAL\n3358    FAKE\n4366    REAL\n3209    REAL\n3937    REAL\n3831    REAL\n5608    FAKE\n2960    REAL\n6198    REAL\n1461    FAKE\n4404    REAL\n1750    FAKE\n950     REAL\n3530    REAL\n3403    REAL\n6228    FAKE\n658     FAKE\n54      FAKE\n4385    FAKE\n945     FAKE\n5488    FAKE\n1163    FAKE\n2650    FAKE\n125     REAL\n96      FAKE\n307     REAL\n245     REAL\n376     REAL\n        ... \n1406    REAL\n409     REAL\n4109    FAKE\n4173    REAL\n3126    REAL\n5809    FAKE\n974     FAKE\n5320    FAKE\n574     FAKE\n3435    FAKE\n3416    FAKE\n2102    REAL\n2443    FAKE\n239     REAL\n4452    REAL\n5648    REAL\n2550    REAL\n4136    FAKE\n1097    REAL\n1032    FAKE\n2042    REAL\n1949    FAKE\n1520    FAKE\n4829    FAKE\n2009    REAL\n1180    REAL\n3441    FAKE\n1344    FAKE\n4623    FAKE\n1289    REAL\nName: label, Length: 5068, dtype: object"
     },
     "metadata": {},
     "execution_count": 121
    }
   ],
   "source": [
    "y_train"
   ]
  },
  {
   "cell_type": "code",
   "execution_count": 102,
   "metadata": {},
   "outputs": [
    {
     "output_type": "stream",
     "name": "stdout",
     "text": "Accuracy: 94.55%\n"
    }
   ],
   "source": [
    "\n",
    "pac=PassiveAggressiveClassifier(max_iter=50)\n",
    "pac.fit(tfidf_train,y_train)\n",
    "\n",
    "y_pred=pac.predict(tfidf_test)\n",
    "score=accuracy_score(y_test,y_pred)\n",
    "print(f'Accuracy: {round(score*100,2)}%')"
   ]
  },
  {
   "cell_type": "code",
   "execution_count": 103,
   "metadata": {},
   "outputs": [
    {
     "output_type": "execute_result",
     "data": {
      "text/plain": "array([[573,  30],\n       [ 39, 625]], dtype=int64)"
     },
     "metadata": {},
     "execution_count": 103
    }
   ],
   "source": [
    "confusion_matrix(y_test,y_pred, labels=['FAKE','REAL'])"
   ]
  },
  {
   "cell_type": "code",
   "execution_count": 122,
   "metadata": {},
   "outputs": [],
   "source": [
    "newse=['Beijing is actively discouraging its 11 million Chinese diaspora from coming home, telling them that it would mean long delays in their studies and jobs overseas. And it’s no longer sending chartered flights to get citizens home, an about-turn from an earlier policy that saw it bring plane loads of Chinese back from Iran and Japan.']\n",
    "#input=[news,]"
   ]
  },
  {
   "cell_type": "code",
   "execution_count": 123,
   "metadata": {},
   "outputs": [],
   "source": [
    "\n",
    "tfidf_vectorize=TfidfVectorizer(stop_words='english',max_df=0.7,vocabulary=tfidf_vectorizer.vocabulary_)\n",
    "tfidf_news=tfidf_vectorize.fit_transform(newse) \n",
    ""
   ]
  },
  {
   "cell_type": "code",
   "execution_count": 124,
   "metadata": {},
   "outputs": [
    {
     "output_type": "execute_result",
     "data": {
      "text/plain": "array(['FAKE'], dtype='<U4')"
     },
     "metadata": {},
     "execution_count": 124
    }
   ],
   "source": [
    "pac.predict(tfidf_news.reshape(1, -1))"
   ]
  },
  {
   "cell_type": "code",
   "execution_count": 24,
   "metadata": {},
   "outputs": [
    {
     "output_type": "execute_result",
     "data": {
      "text/plain": "0       Daniel Greenfield, a Shillman Journalism Fello...\n1       Google Pinterest Digg Linkedin Reddit Stumbleu...\n2       U.S. Secretary of State John F. Kerry said Mon...\n3       — Kaydee King (@KaydeeKing) November 9, 2016 T...\n4       It's primary day in New York and front-runners...\n5         \\nI’m not an immigrant, but my grandparents ...\n6       Share This Baylee Luciani (left), Screenshot o...\n7       A Czech stockbroker who saved more than 650 Je...\n8       Hillary Clinton and Donald Trump made some ina...\n9       Iranian negotiators reportedly have made a las...\n10      CEDAR RAPIDS, Iowa — “I had one of the most wo...\n11      Donald Trump’s organizational problems have go...\n12      Click Here To Learn More About Alexandra's Per...\n13      October 31, 2016 at 4:52 am \\nPretty factual e...\n14      Killing Obama administration rules, dismantlin...\n15      As more women move into high offices, they oft...\n16      Shocking! Michele Obama & Hillary Caught Glamo...\n17      0 \\nHillary Clinton has barely just lost the p...\n18      Washington (CNN) For months, the White House a...\n19      While paging through Pew's best data visualiza...\n20      With little fanfare this fall, the New York de...\n21      November 13, 2016 By 21wire Leave a Comment \\n...\n22      Hillary Clinton told a Staten Island crowd tod...\n23      Mitch McConnell has an unusual admonition for ...\n24      Mises.org November 1, 2016 Inferno is a great ...\n25      Washington (CNN) The faction of the GOP that i...\n26      Meanwhile, Democrat Bernie Sanders picked up m...\n27      After a week of nonstop criticism from Democra...\n28      If you want a glimpse into a presidential cand...\n29      Syrian War Report – October 31, 2016: Al-Nusra...\n                              ...                        \n6305    Print \\n[Ed. – Now teaching the gospel of raci...\n6306    Sound too “strange” to be true? We have proof!...\n6307    US abstains from UN vote calling for end to Cu...\n6308    Tuesday 1 November 2016 by Formelia Alberthine...\n6309    When Susan E. Rice took over as President Obam...\n6310    (CNN) ISIS has claimed responsibility for the ...\n6311    It was inevitable that liberals would end up b...\n6312    By Kalee Brown\\nWhile I was at university, man...\n6313    Email \\nDonald Trump is again riling up his vo...\n6314    BREAKING: Trump Jumps in FL, Takes 4 Point Lea...\n6315    Police in Charleston, S.C., say a man they sus...\n6316    Silver of FiveThirtyEight.com has laid out fou...\n6317    This post was originally published on this sit...\n6318    BREAKING : Hillary Campaign Manager Deletes hi...\n6319    Ted Cruz took first prize in the Iowa caucuses...\n6320    Posted on November 4, 2016 by Charles Hugh Smi...\n6321    Charlie Baker , Massachusetts (2015–present)[3...\n6322    vladimir putin , Valdai , sochi , RBTH Daily R...\n6323    ROME —  U.S. Democratic presidential candidate...\n6324    Most conservatives who oppose marriage equalit...\n6325    Written by Peter Van Buren   venerable New Yor...\n6326    DOJ COMPLAINT: Comey Under Fire Over Partisan ...\n6327    The freshman senator from Georgia quoted scrip...\n6328                                                     \n6329    Julian Assange has claimed the Hillary Clinton...\n6330    The State Department told the Republican Natio...\n6331    The ‘P’ in PBS Should Stand for ‘Plutocratic’ ...\n6332     Anti-Trump Protesters Are Tools of the Oligar...\n6333    ADDIS ABABA, Ethiopia —President Obama convene...\n6334    Jeb Bush Is Suddenly Attacking Trump. Here's W...\nName: text, Length: 6335, dtype: object"
     },
     "metadata": {},
     "execution_count": 24
    }
   ],
   "source": [
    "data['text']"
   ]
  },
  {
   "cell_type": "code",
   "execution_count": null,
   "metadata": {},
   "outputs": [],
   "source": []
  }
 ]
}